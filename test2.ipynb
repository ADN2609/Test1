{
 "cells": [
  {
   "cell_type": "code",
   "execution_count": 3,
   "id": "9c10c824-339d-4f86-a356-58fe23675a45",
   "metadata": {},
   "outputs": [],
   "source": [
    "#vẽ hình vuông\n",
    "import turtle\n",
    "t = turtle.Turtle()\n",
    "for i in range(4): #vẽ 1 hình vuông theo vòng lặp\n",
    "    t.fd(100) #đi tới\n",
    "    t.rt(90)  #rẽ phải\n",
    "t.penup()  #nhấc  bút lên\n",
    "t.fd(200)  #cách 200 pixel\n",
    "t.pendown() # hạ bút vẽ\n",
    "\n",
    "for i in range(4): #vẽ tiếp hình vuông thứ 2\n",
    "    t.fd(100)\n",
    "    t.rt(90)"
   ]
  },
  {
   "cell_type": "code",
   "execution_count": 2,
   "id": "282000b7-8642-4be8-8123-987aa5c2839b",
   "metadata": {},
   "outputs": [],
   "source": [
    "#vẽ tam giác\n",
    "import turtle\n",
    "\n",
    "t = turtle.Turtle()\n",
    "t.color(\"green\",\"yellow\") #lệnh đổi màu\n",
    "t.begin_fill() ##bắt đầu tô màu\n",
    "for i in range(3): \n",
    "    t.fd(100) #đi tới\n",
    "    t.rt(120)  #rẽ phải\n",
    "t.end_fill() #kết thúc tô màu"
   ]
  },
  {
   "cell_type": "code",
   "execution_count": 2,
   "id": "7fcf5885-d8ba-44ab-a24a-2d2a6c49b188",
   "metadata": {},
   "outputs": [],
   "source": [
    "# vẽ lục giấc\n",
    "import turtle\n",
    "\n",
    "t = turtle.Turtle()\n",
    "\n",
    "for i in range(6):\n",
    "    t.fd(100)\n",
    "    t.left(60)"
   ]
  },
  {
   "cell_type": "code",
   "execution_count": 1,
   "id": "b47a683e-36de-41b4-8ffc-f795de34cdc8",
   "metadata": {},
   "outputs": [],
   "source": [
    "# vẽ ngôi sao\n",
    "import turtle\n",
    "\n",
    "t = turtle.Turtle()\n",
    "\n",
    "t.color(\"green\",\"yellow\")\n",
    "t.begin_fill()\n",
    "\n",
    "for i in range(5):\n",
    "    t.fd(100)\n",
    "    t.right(144)\n",
    "\n",
    "t.end_fill()\n"
   ]
  },
  {
   "cell_type": "code",
   "execution_count": null,
   "id": "d04683ae-a84e-48ac-924a-e6190ba5d8ee",
   "metadata": {},
   "outputs": [],
   "source": [
    "import turtle\n",
    "t = turtle.Turtle()\n",
    "t.color(\"green\",\"yellow\")\n",
    "t.begin_fill()\n",
    "for i in range (36):\n",
    "    t.fd(50)\n",
    "    t.right(150)\n",
    "    t.fd(50)\n",
    "    t.left(120)\n",
    "t.end_fill()\n"
   ]
  },
  {
   "cell_type": "code",
   "execution_count": null,
   "id": "1bc007fb-b452-4abf-8d21-de9964dfa78c",
   "metadata": {},
   "outputs": [],
   "source": []
  }
 ],
 "metadata": {
  "kernelspec": {
   "display_name": "Python 3 (ipykernel)",
   "language": "python",
   "name": "python3"
  },
  "language_info": {
   "codemirror_mode": {
    "name": "ipython",
    "version": 3
   },
   "file_extension": ".py",
   "mimetype": "text/x-python",
   "name": "python",
   "nbconvert_exporter": "python",
   "pygments_lexer": "ipython3",
   "version": "3.12.4"
  }
 },
 "nbformat": 4,
 "nbformat_minor": 5
}
