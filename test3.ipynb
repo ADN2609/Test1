{
 "cells": [
  {
   "cell_type": "code",
   "execution_count": 18,
   "id": "ece76a73-0609-415d-8e6c-0ce375044dac",
   "metadata": {},
   "outputs": [
    {
     "name": "stdin",
     "output_type": "stream",
     "text": [
      "a= -3\n"
     ]
    },
    {
     "name": "stdout",
     "output_type": "stream",
     "text": [
      "a lầ số âm\n"
     ]
    }
   ],
   "source": [
    "a = int(input('a='))\n",
    "if a>0:\n",
    "    print('a là số dương')\n",
    "if a<0:\n",
    "        print('a lầ số âm')\n",
    "else:\n",
    "    print('a = 0')\n"
   ]
  },
  {
   "cell_type": "code",
   "execution_count": null,
   "id": "52004f3e-904b-44dc-969f-1082598e9ca9",
   "metadata": {},
   "outputs": [],
   "source": []
  }
 ],
 "metadata": {
  "kernelspec": {
   "display_name": "Python 3 (ipykernel)",
   "language": "python",
   "name": "python3"
  },
  "language_info": {
   "codemirror_mode": {
    "name": "ipython",
    "version": 3
   },
   "file_extension": ".py",
   "mimetype": "text/x-python",
   "name": "python",
   "nbconvert_exporter": "python",
   "pygments_lexer": "ipython3",
   "version": "3.12.4"
  }
 },
 "nbformat": 4,
 "nbformat_minor": 5
}
